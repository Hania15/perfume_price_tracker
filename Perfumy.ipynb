{
 "cells": [
  {
   "cell_type": "code",
   "execution_count": 3,
   "id": "66fd33d3-b1e8-4988-9e81-86d69edf7b8b",
   "metadata": {},
   "outputs": [],
   "source": [
    "from bs4 import BeautifulSoup\n",
    "import requests\n",
    "import time\n",
    "import datetime\n",
    "\n",
    "import smtplib"
   ]
  },
  {
   "cell_type": "code",
   "execution_count": 28,
   "id": "fbb27633-a0c5-4342-8382-c261bb84c13d",
   "metadata": {},
   "outputs": [
    {
     "name": "stdout",
     "output_type": "stream",
     "text": [
      "\n",
      "\n",
      "                  Tom Ford\n",
      "                 \n",
      "\n",
      "\n",
      "\n",
      "                 Signature Black Orchid Parfum\n",
      "                \n",
      "\n",
      "                     679,00 zł\n",
      "                    \n"
     ]
    }
   ],
   "source": [
    "# Connect to web and pull in the data about the perfume\n",
    "\n",
    "URL = 'https://www.douglas.pl/pl/p/5002834026?variant=684258'\n",
    "\n",
    "headers = {\"User-Agent\": \"Mozilla/5.0 (Windows NT 10.0; Win64; x64) AppleWebKit/537.36 (KHTML, like Gecko) Chrome/78.0.3904.108 Safari/537.36\", \"Accept-Encoding\":\"gzip, deflate\", \"Accept\":\"text/html,application/xhtml+xml,application/xml;q=0.9,*/*;q=0.8\", \"DNT\":\"1\",\"Connection\":\"close\", \"Upgrade-Insecure-Requests\":\"1\"}\n",
    "\n",
    "page = requests.get(URL, headers=headers)\n",
    "\n",
    "soup1 = BeautifulSoup(page.content, \"html.parser\")\n",
    "\n",
    "soup2 = BeautifulSoup(soup1.prettify(), \"html.parser\")\n",
    "\n",
    "producent = soup2.find('a', class_='link link--text brand-logo').get_text()\n",
    "\n",
    "title = soup2.find('span', class_='header-name').get_text()\n",
    "\n",
    "price = soup2.find('span',class_= 'product-price__price').get_text()\n",
    "\n",
    "print(producent)\n",
    "print(title)\n",
    "print(price)"
   ]
  },
  {
   "cell_type": "code",
   "execution_count": 30,
   "id": "f2b525e7-2c70-458f-a51e-1bdaf168e7c1",
   "metadata": {},
   "outputs": [
    {
     "name": "stdout",
     "output_type": "stream",
     "text": [
      "Tom Ford\n",
      "Signature Black Orchid Parfum\n",
      "679,00 zł\n"
     ]
    }
   ],
   "source": [
    "# Cleaning the data a little bit :p\n",
    "\n",
    "producent = producent.strip()\n",
    "price = price.strip()\n",
    "title = title.strip()\n",
    "\n",
    "print(producent)\n",
    "print(title)\n",
    "print(price)"
   ]
  },
  {
   "cell_type": "code",
   "execution_count": 31,
   "id": "8e59cefe-1c3a-43c9-b532-5cacb6c13522",
   "metadata": {},
   "outputs": [
    {
     "name": "stdout",
     "output_type": "stream",
     "text": [
      "2023-03-19\n"
     ]
    }
   ],
   "source": [
    "# Create a Timestamp to my output to track the when it was collected\n",
    "\n",
    "import datetime\n",
    "\n",
    "today = datetime.date.today()\n",
    "\n",
    "print(today)"
   ]
  },
  {
   "cell_type": "code",
   "execution_count": 42,
   "id": "01c57a98-39fe-43b7-918b-d733d6cc4113",
   "metadata": {},
   "outputs": [],
   "source": [
    "# Creation of a CSV file and adding headers and adding the values to the created CSV\n",
    "\n",
    "import csv \n",
    "\n",
    "header = ['Title', 'Price', 'Date']\n",
    "data = [title, price, today]\n",
    "\n",
    "\n",
    "with open('/Users/haniatrepkowska/Desktop/Python pandas projects/DouglasDataset.csv', 'w', newline='', encoding='UTF8') as f:\n",
    "    writer = csv.writer(f)\n",
    "    writer.writerow(header)\n",
    "    writer.writerow(data)\n",
    "    "
   ]
  },
  {
   "cell_type": "code",
   "execution_count": 44,
   "id": "6b73fb9e-71a7-4272-aeb0-4b21195b6106",
   "metadata": {},
   "outputs": [
    {
     "name": "stdout",
     "output_type": "stream",
     "text": [
      "                           Title      Price        Date\n",
      "0  Signature Black Orchid Parfum  679,00 zł  2023-03-19\n"
     ]
    }
   ],
   "source": [
    "import pandas as pd\n",
    "\n",
    "df = pd.read_csv(r'/Users/haniatrepkowska/Desktop/Python pandas projects/DouglasDataset.csv')\n",
    "\n",
    "print(df)"
   ]
  },
  {
   "cell_type": "code",
   "execution_count": 47,
   "id": "3876e89c-ba84-43ec-99bb-3e85e46599bf",
   "metadata": {},
   "outputs": [],
   "source": [
    "# making one general function\n",
    "\n",
    "def check_price():\n",
    "    URL = 'https://www.douglas.pl/pl/p/5002834026?variant=684258'\n",
    "\n",
    "    headers = {\"User-Agent\": \"Mozilla/5.0 (Windows NT 10.0; Win64; x64) AppleWebKit/537.36 (KHTML, like Gecko) Chrome/78.0.3904.108 Safari/537.36\", \"Accept-Encoding\":\"gzip, deflate\", \"Accept\":\"text/html,application/xhtml+xml,application/xml;q=0.9,*/*;q=0.8\", \"DNT\":\"1\",\"Connection\":\"close\", \"Upgrade-Insecure-Requests\":\"1\"}\n",
    "\n",
    "    page = requests.get(URL, headers=headers)\n",
    "\n",
    "    soup1 = BeautifulSoup(page.content, \"html.parser\")\n",
    "\n",
    "    soup2 = BeautifulSoup(soup1.prettify(), \"html.parser\")\n",
    "\n",
    "    producent = soup2.find('a', class_='link link--text brand-logo').get_text()\n",
    "\n",
    "    title = soup2.find('span', class_='header-name').get_text()\n",
    "\n",
    "    price = soup2.find('span',class_= 'product-price__price').get_text()\n",
    "    \n",
    "    producent = producent.strip()\n",
    "    price = price.strip()\n",
    "    title = title.strip()\n",
    "\n",
    "    import datetime\n",
    "\n",
    "    today = datetime.date.today()\n",
    "    \n",
    "    import csv \n",
    "\n",
    "    header = ['Title', 'Price', 'Date']\n",
    "    data = [title, price, today]\n",
    "\n",
    "    with open('/Users/haniatrepkowska/Desktop/Python pandas projects/DouglasDataset.csv', 'a+', newline='', encoding='UTF8') as f:\n",
    "        writer = csv.writer(f)\n",
    "        writer.writerow(data)\n",
    "\n"
   ]
  },
  {
   "cell_type": "code",
   "execution_count": null,
   "id": "09822628-22a3-4e9c-9c63-ecbcde230a29",
   "metadata": {},
   "outputs": [],
   "source": [
    "# Runs check_price after a set time and inputs data into your CSV\n",
    "\n",
    "while(True):\n",
    "    check_price()\n",
    "    time.sleep(86400)\n",
    "   \n",
    "    if(price < 600:\n",
    "       send_mail()\n"
   ]
  },
  {
   "cell_type": "code",
   "execution_count": null,
   "id": "2c21e590-d466-4877-b25d-3ee83b9f7211",
   "metadata": {
    "tags": []
   },
   "outputs": [],
   "source": [
    "import pandas as pd\n",
    "\n",
    "df = pd.read_csv(r'/Users/haniatrepkowska/Desktop/Python pandas projects/DouglasDataset.csv')\n",
    "\n",
    "print(df)"
   ]
  },
  {
   "cell_type": "code",
   "execution_count": null,
   "id": "f1398f5b-4a17-48cf-abe5-57fb05e2135b",
   "metadata": {},
   "outputs": [],
   "source": [
    "# sending an email while price is below a certain level \n",
    "\n",
    "def send_mail():\n",
    "    server = smtplib.SMTP_SSL('smtp.gmail.com',465)\n",
    "    server.ehlo()\n",
    "    #server.starttls()\n",
    "    server.ehlo()\n",
    "    server.login('email@gmail.com','password_here')\n",
    "    \n",
    "    subject = \"Your desired perfume\"\n",
    "    body = \"Hania, you have been dreaming about this perfumeee for sooo long - go get it girl! Link here: https://www.douglas.pl/pl/p/5002834026?variant=684258\"\n",
    "   \n",
    "    msg = f\"Subject: {subject}\\n\\n{body}\"\n",
    "    \n",
    "    server.sendmail(\n",
    "        'haniaoss@gmail.com',\n",
    "        msg\n",
    "     \n",
    "    )"
   ]
  }
 ],
 "metadata": {
  "kernelspec": {
   "display_name": "Python 3 (ipykernel)",
   "language": "python",
   "name": "python3"
  },
  "language_info": {
   "codemirror_mode": {
    "name": "ipython",
    "version": 3
   },
   "file_extension": ".py",
   "mimetype": "text/x-python",
   "name": "python",
   "nbconvert_exporter": "python",
   "pygments_lexer": "ipython3",
   "version": "3.9.13"
  }
 },
 "nbformat": 4,
 "nbformat_minor": 5
}
